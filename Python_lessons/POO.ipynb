{
 "cells": [
  {
   "cell_type": "markdown",
   "metadata": {},
   "source": [
    "Abaixo a importação da biblioteca Pandas pra leitura de um arquivo CSV chamado \"credit_data.csv\" usando o método `read_csv()` do pandas. O resultado foi atribuído à variável `credit_data`, que é um objeto¹ do tipo DataFrame² do pandas. Em seguida, você exibiu o conteúdo do DataFrame `credit_data`. O DataFrame possui 2000 linhas e 5 colunas, com os nomes das colunas sendo 'clientid', 'income', 'age', 'loan' e 'default'. Cada coluna contém dados de diferentes tipos, como inteiros e floats.\n",
    "\n",
    "_¹ um objeto é uma instância de uma classe que encapsula dados e comportamentos relacionados. Objetos são fundamentais na programação orientada a objetos (OOP). Aqui estão alguns conceitos-chave:_ \n",
    "\n",
    "- _Classe: Um molde ou blueprint que define atributos (dados) e métodos (comportamentos) que os objetos criados a partir dessa classe terão._\n",
    "- _Instância: Um objeto é uma instância de uma classe. Cada instância pode ter valores diferentes para os atributos definidos na classe._\n",
    "- _Atributos: Variáveis que armazenam dados do objeto._\n",
    "- _Métodos: Funções que definem comportamentos do objeto._\n",
    "\n",
    "_² Um objeto do tipo DataFrame é uma estrutura de dados bidimensional fornecida pela biblioteca pandas em Python. Ele é semelhante a uma tabela em uma base de dados ou a uma planilha em um programa de planilhas, como o Excel._"
   ]
  },
  {
   "cell_type": "code",
   "execution_count": null,
   "metadata": {},
   "outputs": [],
   "source": [
    "import pandas as pd\n",
    "\n",
    "credit_data=pd.read_csv(\"datasets/credit_data.csv\") # cria um objeto DataFrame a partir de um arquivo CSV, encapsula dados tabulares e fornece métodos para manipulação e análise desses dados\n",
    "credit_data "
   ]
  },
  {
   "cell_type": "markdown",
   "metadata": {},
   "source": [
    "# Dissecando POO\n",
    "\n",
    "Na célula de código a seguir pode-se ter uma idéia mais concreta dos conceitos de POO"
   ]
  },
  {
   "cell_type": "code",
   "execution_count": null,
   "metadata": {},
   "outputs": [],
   "source": [
    "# Definição da classe Car\n",
    "class Car:\n",
    "    # Método inicializador (construtor) da classe\n",
    "    def __init__(self, make, model, year):\n",
    "        # Atributos de instância\n",
    "        self.make = make  # Marca do carro\n",
    "        self.model = model  # Modelo do carro\n",
    "        self.year = year  # Ano do carro\n",
    "    \n",
    "    # Método para exibir informações do carro\n",
    "    def display_info(self):\n",
    "        # Exibe os atributos do carro formatados\n",
    "        print(f\"{self.year} {self.make} {self.model}\")\n",
    "\n",
    "# Criação de um objeto (instância) da classe Car\n",
    "my_car = Car(\"Toyota\", \"Corolla\", 2020)\n",
    "\n",
    "# Acessando atributos do objeto\n",
    "print(my_car.make)  # Output: Toyota\n",
    "\n",
    "# Chamando métodos do objeto\n",
    "my_car.display_info()  # Output: 2020 Toyota Corolla\n"
   ]
  },
  {
   "cell_type": "code",
   "execution_count": null,
   "metadata": {},
   "outputs": [],
   "source": [
    "# Abstração e Encapsulamento\n",
    "class Car:\n",
    "    def __init__(self, make, model, year):\n",
    "        self.__make = make  # Atributo privado\n",
    "        self.__model = model  # Atributo privado\n",
    "        self.__year = year  # Atributo privado\n",
    "    \n",
    "    # Método para exibir informações do carro\n",
    "    def display_info(self):\n",
    "        print(f\"{self.__year} {self.__make} {self.__model}\")\n",
    "\n",
    "    # Getters\n",
    "    def get_make(self):\n",
    "        return self.__make\n",
    "\n",
    "    def get_model(self):\n",
    "        return self.__model\n",
    "\n",
    "    def get_year(self):\n",
    "        return self.__year\n",
    "\n",
    "    # Setters\n",
    "    def set_make(self, make):\n",
    "        self.__make = make\n",
    "\n",
    "    def set_model(self, model):\n",
    "        self.__model = model\n",
    "\n",
    "    def set_year(self, year):\n",
    "        self.__year = year\n",
    "\n",
    "# Herança\n",
    "class ElectricCar(Car):\n",
    "    def __init__(self, make, model, year, battery_size):\n",
    "        super().__init__(make, model, year)  # Chama o construtor da classe base\n",
    "        self.__battery_size = battery_size  # Atributo específico da classe derivada\n",
    "\n",
    "    # Polimorfismo - Sobrescrevendo o método display_info\n",
    "    def display_info(self):\n",
    "        super().display_info()  # Chama o método da classe base\n",
    "        print(f\"Battery size: {self.__battery_size} kWh\")\n",
    "\n",
    "    # Getter e Setter para battery_size\n",
    "    def get_battery_size(self):\n",
    "        return self.__battery_size\n",
    "\n",
    "    def set_battery_size(self, battery_size):\n",
    "        self.__battery_size = battery_size\n",
    "\n",
    "# Criação de uma instância da classe Car\n",
    "my_car = Car(\"Toyota\", \"Corolla\", 2020)\n",
    "my_car.display_info()  # Output: 2020 Toyota Corolla\n",
    "\n",
    "# Acessando e modificando atributos através de métodos\n",
    "print(my_car.get_make())  # Output: Toyota\n",
    "my_car.set_make(\"Honda\")\n",
    "print(my_car.get_make())  # Output: Honda\n",
    "\n",
    "# Criação de uma instância da classe ElectricCar\n",
    "my_electric_car = ElectricCar(\"Tesla\", \"Model S\", 2021, 100)\n",
    "my_electric_car.display_info()  # Output: 2021 Tesla Model S Battery size: 100 kWh\n",
    "\n",
    "# Acessando e modificando o atributo específico da classe derivada\n",
    "print(my_electric_car.get_battery_size())  # Output: 100\n",
    "my_electric_car.set_battery_size(120)\n",
    "print(my_electric_car.get_battery_size())  # Output: 120\n"
   ]
  },
  {
   "cell_type": "markdown",
   "metadata": {},
   "source": [
    "- **Abstração:** A abstração é o conceito de ocultar os detalhes complexos e mostrar apenas a funcionalidade essencial do objeto. Nos exemplos acima, a classe `Car` define a abstração de um carro, encapsulando os detalhes essenciais como `make`, `model` e `year`, e fornecendo um método para exibir essas informações (`display_info`).\n",
    "\n",
    "- **Encapsulamento:**\n",
    "O encapsulamento é o conceito de restringir o acesso direto a alguns dos componentes de um objeto e pode evitar a modificação acidental dos dados. Utilizamos métodos getters e setters para acessar e modificar os atributos privados. Os atributos da classe `Car` (`__make`, `__model`, `__year`) são privados, indicando que não devem ser acessados diretamente fora da classe. Métodos getters e setters (`get_make`, `set_make`, etc.) são fornecidos para acessar e modificar esses atributos de maneira controlada.\n",
    "\n",
    "- **Herança:**\n",
    "A herança permite criar uma nova classe baseada em uma classe existente. A nova classe herda os atributos e métodos da classe existente. A classe `ElectricCar` herda da classe `Car`. Isso significa que `ElectricCar` tem todos os atributos e métodos de `Car`, além dos atributos e métodos adicionais definidos em `ElectricCar` ( `__battery_size` e seus getters e setters).\n",
    "\n",
    "- **Polimorfismo:**\n",
    "O polimorfismo permite que uma interface seja usada para um grupo de tipos relacionados. Os métodos podem ter o mesmo nome, mas comportamentos diferentes dependendo da classe que os implementa. A classe ElectricCar sobrescreve o método display_info da classe Car para adicionar informações adicionais específicas do carro elétrico (tamanho da bateria). Isso demonstra polimorfismo, pois o mesmo método (display_info) tem comportamentos diferentes dependendo da classe da instância.\n",
    "\n",
    "\n"
   ]
  }
 ],
 "metadata": {
  "kernelspec": {
   "display_name": "base",
   "language": "python",
   "name": "python3"
  },
  "language_info": {
   "name": "python",
   "version": "3.12.4"
  }
 },
 "nbformat": 4,
 "nbformat_minor": 2
}
